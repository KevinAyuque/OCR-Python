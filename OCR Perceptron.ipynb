{
 "cells": [
  {
   "cell_type": "markdown",
   "metadata": {},
   "source": [
    "# OCR\n",
    "Presentamos un OCR (Optical Character Recognition) construido usando el algoritmo Perceptron.\n",
    "\n",
    "## Importando las librerías"
   ]
  },
  {
   "cell_type": "code",
   "execution_count": 1,
   "metadata": {
    "collapsed": true
   },
   "outputs": [],
   "source": [
    "import numpy as np\n",
    "import numpy\n",
    "from PIL import Image\n",
    "from numpy import genfromtxt"
   ]
  },
  {
   "cell_type": "markdown",
   "metadata": {},
   "source": [
    "## Inicializando valores"
   ]
  },
  {
   "cell_type": "code",
   "execution_count": 2,
   "metadata": {
    "collapsed": false
   },
   "outputs": [],
   "source": [
    "training_n = 5\n",
    "image_width=7\n",
    "image_height = 9\n",
    "\n",
    "\n",
    "# Cantidad de input units\n",
    "input_n = image_width * image_height\n",
    "\n",
    "# Cantidad de output units \n",
    "output_n = 7\n",
    "\n",
    "threshold = 0\n",
    "b = np.zeros(output_n)\n",
    "w = np.zeros((input_n, output_n))\n",
    "t = np.zeros((output_n, output_n))\n",
    "t.fill(-1)\n",
    "\n",
    "for i in range(0, output_n):\n",
    "    t[i, i] = 1"
   ]
  },
  {
   "cell_type": "markdown",
   "metadata": {},
   "source": [
    "Hemos inicializado los valores de entrada. Así es como se ven nuestros datos iniciales.\n",
    "### Peso"
   ]
  },
  {
   "cell_type": "code",
   "execution_count": 3,
   "metadata": {
    "collapsed": false
   },
   "outputs": [
    {
     "name": "stdout",
     "output_type": "stream",
     "text": [
      "[[ 0.  0.  0.  0.  0.  0.  0.]\n",
      " [ 0.  0.  0.  0.  0.  0.  0.]\n",
      " [ 0.  0.  0.  0.  0.  0.  0.]\n",
      " [ 0.  0.  0.  0.  0.  0.  0.]\n",
      " [ 0.  0.  0.  0.  0.  0.  0.]\n",
      " [ 0.  0.  0.  0.  0.  0.  0.]\n",
      " [ 0.  0.  0.  0.  0.  0.  0.]\n",
      " [ 0.  0.  0.  0.  0.  0.  0.]\n",
      " [ 0.  0.  0.  0.  0.  0.  0.]\n",
      " [ 0.  0.  0.  0.  0.  0.  0.]\n",
      " [ 0.  0.  0.  0.  0.  0.  0.]\n",
      " [ 0.  0.  0.  0.  0.  0.  0.]\n",
      " [ 0.  0.  0.  0.  0.  0.  0.]\n",
      " [ 0.  0.  0.  0.  0.  0.  0.]\n",
      " [ 0.  0.  0.  0.  0.  0.  0.]\n",
      " [ 0.  0.  0.  0.  0.  0.  0.]\n",
      " [ 0.  0.  0.  0.  0.  0.  0.]\n",
      " [ 0.  0.  0.  0.  0.  0.  0.]\n",
      " [ 0.  0.  0.  0.  0.  0.  0.]\n",
      " [ 0.  0.  0.  0.  0.  0.  0.]\n",
      " [ 0.  0.  0.  0.  0.  0.  0.]\n",
      " [ 0.  0.  0.  0.  0.  0.  0.]\n",
      " [ 0.  0.  0.  0.  0.  0.  0.]\n",
      " [ 0.  0.  0.  0.  0.  0.  0.]\n",
      " [ 0.  0.  0.  0.  0.  0.  0.]\n",
      " [ 0.  0.  0.  0.  0.  0.  0.]\n",
      " [ 0.  0.  0.  0.  0.  0.  0.]\n",
      " [ 0.  0.  0.  0.  0.  0.  0.]\n",
      " [ 0.  0.  0.  0.  0.  0.  0.]\n",
      " [ 0.  0.  0.  0.  0.  0.  0.]\n",
      " [ 0.  0.  0.  0.  0.  0.  0.]\n",
      " [ 0.  0.  0.  0.  0.  0.  0.]\n",
      " [ 0.  0.  0.  0.  0.  0.  0.]\n",
      " [ 0.  0.  0.  0.  0.  0.  0.]\n",
      " [ 0.  0.  0.  0.  0.  0.  0.]\n",
      " [ 0.  0.  0.  0.  0.  0.  0.]\n",
      " [ 0.  0.  0.  0.  0.  0.  0.]\n",
      " [ 0.  0.  0.  0.  0.  0.  0.]\n",
      " [ 0.  0.  0.  0.  0.  0.  0.]\n",
      " [ 0.  0.  0.  0.  0.  0.  0.]\n",
      " [ 0.  0.  0.  0.  0.  0.  0.]\n",
      " [ 0.  0.  0.  0.  0.  0.  0.]\n",
      " [ 0.  0.  0.  0.  0.  0.  0.]\n",
      " [ 0.  0.  0.  0.  0.  0.  0.]\n",
      " [ 0.  0.  0.  0.  0.  0.  0.]\n",
      " [ 0.  0.  0.  0.  0.  0.  0.]\n",
      " [ 0.  0.  0.  0.  0.  0.  0.]\n",
      " [ 0.  0.  0.  0.  0.  0.  0.]\n",
      " [ 0.  0.  0.  0.  0.  0.  0.]\n",
      " [ 0.  0.  0.  0.  0.  0.  0.]\n",
      " [ 0.  0.  0.  0.  0.  0.  0.]\n",
      " [ 0.  0.  0.  0.  0.  0.  0.]\n",
      " [ 0.  0.  0.  0.  0.  0.  0.]\n",
      " [ 0.  0.  0.  0.  0.  0.  0.]\n",
      " [ 0.  0.  0.  0.  0.  0.  0.]\n",
      " [ 0.  0.  0.  0.  0.  0.  0.]\n",
      " [ 0.  0.  0.  0.  0.  0.  0.]\n",
      " [ 0.  0.  0.  0.  0.  0.  0.]\n",
      " [ 0.  0.  0.  0.  0.  0.  0.]\n",
      " [ 0.  0.  0.  0.  0.  0.  0.]\n",
      " [ 0.  0.  0.  0.  0.  0.  0.]\n",
      " [ 0.  0.  0.  0.  0.  0.  0.]\n",
      " [ 0.  0.  0.  0.  0.  0.  0.]]\n"
     ]
    }
   ],
   "source": [
    "print(w)"
   ]
  },
  {
   "cell_type": "markdown",
   "metadata": {},
   "source": [
    "### Bias"
   ]
  },
  {
   "cell_type": "code",
   "execution_count": 4,
   "metadata": {
    "collapsed": false
   },
   "outputs": [
    {
     "name": "stdout",
     "output_type": "stream",
     "text": [
      "[ 0.  0.  0.  0.  0.  0.  0.]\n"
     ]
    }
   ],
   "source": [
    "print(b)"
   ]
  },
  {
   "cell_type": "markdown",
   "metadata": {},
   "source": [
    "### Target Output"
   ]
  },
  {
   "cell_type": "code",
   "execution_count": 5,
   "metadata": {
    "collapsed": false
   },
   "outputs": [
    {
     "name": "stdout",
     "output_type": "stream",
     "text": [
      "[[ 1. -1. -1. -1. -1. -1. -1.]\n",
      " [-1.  1. -1. -1. -1. -1. -1.]\n",
      " [-1. -1.  1. -1. -1. -1. -1.]\n",
      " [-1. -1. -1.  1. -1. -1. -1.]\n",
      " [-1. -1. -1. -1.  1. -1. -1.]\n",
      " [-1. -1. -1. -1. -1.  1. -1.]\n",
      " [-1. -1. -1. -1. -1. -1.  1.]]\n"
     ]
    }
   ],
   "source": [
    "print(t)"
   ]
  },
  {
   "cell_type": "markdown",
   "metadata": {},
   "source": [
    "# Métodos\n",
    "## Tratamiento de imágenes"
   ]
  },
  {
   "cell_type": "code",
   "execution_count": 6,
   "metadata": {
    "collapsed": true
   },
   "outputs": [],
   "source": [
    "def blockshaped(arr, nrows, ncols):\n",
    "    h, w = arr.shape\n",
    "    return (arr.reshape(h//nrows, nrows, -1, ncols)\n",
    "               .swapaxes(1,2)\n",
    "               .reshape(-1, nrows, ncols))\n",
    "#Creado por unutbu de Stack Overflow\n",
    "\n",
    "def imageToArray(image):\n",
    "    image_array = np.array(image, dtype=int)\n",
    "    image_array[image_array < 255] = 1\n",
    "    image_array[image_array == 255] = -1\n",
    "    return image_array"
   ]
  },
  {
   "cell_type": "markdown",
   "metadata": {},
   "source": [
    "## Función de activación"
   ]
  },
  {
   "cell_type": "code",
   "execution_count": 7,
   "metadata": {
    "collapsed": true
   },
   "outputs": [],
   "source": [
    "def activation(y_in, threshold):\n",
    "    if y_in > threshold:\n",
    "        return 1\n",
    "    elif -threshold <= y_in and y_in <= threshold:\n",
    "        return 0\n",
    "    elif y_in < threshold:\n",
    "        return -1"
   ]
  },
  {
   "cell_type": "markdown",
   "metadata": {},
   "source": [
    "## Interpretación de Resultado"
   ]
  },
  {
   "cell_type": "code",
   "execution_count": 8,
   "metadata": {
    "collapsed": true
   },
   "outputs": [],
   "source": [
    "def interpretResult(result):\n",
    "    for i in range(0, result.size):\n",
    "        if result[i] == 1:\n",
    "            if i == 0:\n",
    "                print \"Puede ser A\"\n",
    "            elif i == 1:\n",
    "                print \"Puede ser B\"\n",
    "            elif i == 2:\n",
    "                print \"Puede ser C\"\n",
    "            elif i == 3:\n",
    "                print \"Puede ser D\"\n",
    "            elif i == 4:\n",
    "                print \"Puede ser E\"\n",
    "            elif i == 5:\n",
    "                print \"Puede ser J\"\n",
    "            else:\n",
    "                print \"Puede ser K\""
   ]
  },
  {
   "cell_type": "markdown",
   "metadata": {},
   "source": [
    "## Entrenamiento"
   ]
  },
  {
   "cell_type": "code",
   "execution_count": 9,
   "metadata": {
    "collapsed": true
   },
   "outputs": [],
   "source": [
    "def train( input, output ):\n",
    "    x = input\n",
    "    \n",
    "    \n",
    "    print \"Training starts\"\n",
    "    stopping_condition = False\n",
    "    while(stopping_condition == False):\n",
    "        stopping_condition = True\n",
    "        for i in range(0, input_n):\n",
    "            y_in = np.zeros(output_n)\n",
    "            y = np.zeros(output_n)\n",
    "            \n",
    "            for j in range(0, output_n):\n",
    "                y_in[j] = b[j] + np.dot(x, w[:,j])\n",
    "                y[j] = activation(y_in[j], threshold)\n",
    "                \n",
    "            for j in range(0, output_n):\n",
    "                if t[output][j] != y[j]:\n",
    "                    b[j] = b[j] + t[output][j]\n",
    "                    for i2 in range(0, input_n):\n",
    "                        old_w = w[i2][j]\n",
    "                        w[i2][j] = w[i2][j] + t[output][j]*x[i2]\n",
    "                    \n",
    "                        if old_w != w[i2][j]:\n",
    "                            stopping_condition = False\n",
    "        print \"Epoch\"\n",
    "    print \"Training complete\""
   ]
  },
  {
   "cell_type": "markdown",
   "metadata": {},
   "source": [
    "## Clasificación"
   ]
  },
  {
   "cell_type": "code",
   "execution_count": 10,
   "metadata": {
    "collapsed": true
   },
   "outputs": [],
   "source": [
    "def classify(input):\n",
    "    x = input\n",
    "    y_in = np.zeros(output_n)\n",
    "    y = np.zeros(output_n)\n",
    "    for j in range(0, output_n):\n",
    "        y_in[j] = b[j] + np.dot(x, w[:,j])\n",
    "        y[j] = activation(y_in[j], threshold)\n",
    "    return y"
   ]
  },
  {
   "cell_type": "markdown",
   "metadata": {},
   "source": [
    "# Poniendo a prueba el modelo de red neuronal\n",
    "Convertimos la imágen que va a servir como dato de entrada (los cáracteres) en una matriz bipolar"
   ]
  },
  {
   "cell_type": "code",
   "execution_count": 11,
   "metadata": {
    "collapsed": true
   },
   "outputs": [],
   "source": [
    "training_data_image = Image.open(\"input.png\").convert(\"L\")\n",
    "training_data_array = imageToArray(training_data_image)\n",
    "training_data_array = blockshaped(training_data_array, image_height, image_width)"
   ]
  },
  {
   "cell_type": "markdown",
   "metadata": {},
   "source": [
    "Se entrena los carácteres o datos de entrada."
   ]
  },
  {
   "cell_type": "code",
   "execution_count": 12,
   "metadata": {
    "collapsed": false
   },
   "outputs": [
    {
     "name": "stdout",
     "output_type": "stream",
     "text": [
      "Training starts\n",
      "Epoch\n",
      "Epoch\n",
      "Training complete\n",
      "Training starts\n",
      "Epoch\n",
      "Epoch\n",
      "Training complete\n",
      "Training starts\n",
      "Epoch\n",
      "Epoch\n",
      "Training complete\n",
      "Training starts\n",
      "Epoch\n",
      "Epoch\n",
      "Training complete\n",
      "Training starts\n",
      "Epoch\n",
      "Epoch\n",
      "Training complete\n",
      "Training starts\n",
      "Epoch\n",
      "Epoch\n",
      "Training complete\n",
      "Training starts\n",
      "Epoch\n",
      "Epoch\n",
      "Training complete\n",
      "Training starts\n",
      "Epoch\n",
      "Training complete\n",
      "Training starts\n",
      "Epoch\n",
      "Epoch\n",
      "Training complete\n",
      "Training starts\n",
      "Epoch\n",
      "Epoch\n",
      "Training complete\n",
      "Training starts\n",
      "Epoch\n",
      "Epoch\n",
      "Training complete\n",
      "Training starts\n",
      "Epoch\n",
      "Epoch\n",
      "Training complete\n",
      "Training starts\n",
      "Epoch\n",
      "Epoch\n",
      "Training complete\n",
      "Training starts\n",
      "Epoch\n",
      "Epoch\n",
      "Training complete\n",
      "Training starts\n",
      "Epoch\n",
      "Training complete\n",
      "Training starts\n",
      "Epoch\n",
      "Epoch\n",
      "Training complete\n",
      "Training starts\n",
      "Epoch\n",
      "Epoch\n",
      "Training complete\n",
      "Training starts\n",
      "Epoch\n",
      "Epoch\n",
      "Training complete\n",
      "Training starts\n",
      "Epoch\n",
      "Training complete\n",
      "Training starts\n",
      "Epoch\n",
      "Epoch\n",
      "Training complete\n",
      "Training starts\n",
      "Epoch\n",
      "Epoch\n",
      "Training complete\n",
      "Training starts\n",
      "Epoch\n",
      "Epoch\n",
      "Training complete\n",
      "Training starts\n",
      "Epoch\n",
      "Epoch\n",
      "Training complete\n",
      "Training starts\n",
      "Epoch\n",
      "Epoch\n",
      "Training complete\n",
      "Training starts\n",
      "Epoch\n",
      "Epoch\n",
      "Training complete\n",
      "Training starts\n",
      "Epoch\n",
      "Epoch\n",
      "Training complete\n",
      "Training starts\n",
      "Epoch\n",
      "Training complete\n",
      "Training starts\n",
      "Epoch\n",
      "Epoch\n",
      "Training complete\n",
      "Training starts\n",
      "Epoch\n",
      "Training complete\n",
      "Training starts\n",
      "Epoch\n",
      "Epoch\n",
      "Training complete\n",
      "Training starts\n",
      "Epoch\n",
      "Epoch\n",
      "Training complete\n",
      "Training starts\n",
      "Epoch\n",
      "Epoch\n",
      "Training complete\n",
      "Training starts\n",
      "Epoch\n",
      "Epoch\n",
      "Training complete\n",
      "Training starts\n",
      "Epoch\n",
      "Epoch\n",
      "Training complete\n",
      "Training starts\n",
      "Epoch\n",
      "Epoch\n",
      "Training complete\n"
     ]
    }
   ],
   "source": [
    "output_goal = 0\n",
    "for input in training_data_array:\n",
    "    train(input.flatten(), output_goal)\n",
    "    output_goal += 1\n",
    "    \n",
    "    if output_goal == 7:\n",
    "        output_goal = 0"
   ]
  },
  {
   "cell_type": "markdown",
   "metadata": {},
   "source": [
    "Asi queda la matriz de bias y peso luego del entrenamiento:"
   ]
  },
  {
   "cell_type": "code",
   "execution_count": 13,
   "metadata": {
    "collapsed": false
   },
   "outputs": [
    {
     "name": "stdout",
     "output_type": "stream",
     "text": [
      "[-5. -7. -5. -4. -2. -3. -5.]\n",
      "[[ 1.  1. -1.  2.  4. -1.  5.]\n",
      " [-1.  1. -1.  2.  4.  1.  5.]\n",
      " [-3.  1. -3.  0.  2.  1.  1.]\n",
      " [-3.  1. -3. -2.  2. -1. -5.]\n",
      " [-1. -1. -1. -2.  4.  1. -1.]\n",
      " [-1. -1. -1. -2.  4.  1. -1.]\n",
      " [ 1.  1.  3. -4.  2.  3. -1.]\n",
      " [-3. -1. -3.  4.  4. -1.  5.]\n",
      " [-1.  1.  1.  0.  2. -1.  3.]\n",
      " [-3. -1.  3.  2. -2. -1. -1.]\n",
      " [-3. -3. -1.  0. -4. -1. -5.]\n",
      " [-5. -5. -3.  2. -4. -1. -5.]\n",
      " [-1. -3. -1. -2. -6. -3. -3.]\n",
      " [-1.  3.  5.  0. -2.  1.  1.]\n",
      " [ 3.  3.  3.  0.  0. -1.  3.]\n",
      " [-3.  1.  3.  0.  2. -3.  1.]\n",
      " [ 1. -1.  3. -2. -2. -1.  1.]\n",
      " [-1. -3.  1.  0. -2.  1.  3.]\n",
      " [-1. -1. -5.  0. -6.  1.  1.]\n",
      " [-1. -1. -3.  0. -4. -1. -1.]\n",
      " [-1.  3.  1.  4.  0.  1.  1.]\n",
      " [ 1.  1.  5.  2.  0. -1.  3.]\n",
      " [-3. -1.  1.  0.  2. -3.  1.]\n",
      " [ 1. -1.  1.  0.  4. -1.  3.]\n",
      " [ 1. -1. -1. -4.  0.  3.  3.]\n",
      " [-3.  3. -1. -6.  0.  3.  1.]\n",
      " [ 3.  1. -5. -2.  4. -1. -3.]\n",
      " [ 1.  1. -1.  2.  2.  1.  1.]\n",
      " [ 1.  3.  5.  0.  2. -3.  1.]\n",
      " [-1. -3. -1. -2.  0. -5. -1.]\n",
      " [ 1.  3. -3.  2.  4. -3.  3.]\n",
      " [-1.  3. -3. -2.  2.  1.  1.]\n",
      " [ 1.  5. -3. -2.  2.  1. -3.]\n",
      " [ 3.  1. -5.  2.  2. -3. -1.]\n",
      " [ 3.  3. -1.  8.  0.  1.  3.]\n",
      " [ 1.  1.  3. -2. -2. -3.  1.]\n",
      " [-3. -3. -1.  0.  0. -3. -1.]\n",
      " [ 3. -1. -1.  2.  0.  1.  5.]\n",
      " [ 3. -3. -1.  0. -4.  3.  3.]\n",
      " [ 3. -1. -1.  2. -4.  3.  1.]\n",
      " [ 3. -1. -3.  4.  0. -1. -1.]\n",
      " [ 1.  1. -1.  2.  0.  1.  3.]\n",
      " [ 1.  1.  3.  0. -2. -3.  1.]\n",
      " [-3. -5. -1. -2. -2. -3. -1.]\n",
      " [-1.  1. -1.  0.  0.  1.  3.]\n",
      " [-1.  3. -1.  4.  0.  1.  1.]\n",
      " [-1. -3. -5.  0. -4. -1. -1.]\n",
      " [ 3. -1. -3.  2. -4. -3.  1.]\n",
      " [ 3.  1. -1.  0. -4. -1. -1.]\n",
      " [-3. -1. -3. -4. -2. -3. -1.]\n",
      " [-5. -7. -3. -2. -2. -3. -3.]\n",
      " [-7. -1. -3. -2.  0.  1. -5.]\n",
      " [-5.  1. -3.  0.  2.  1. -1.]\n",
      " [-3.  1. -1. -2. -4. -3. -1.]\n",
      " [-1. -3. -1. -6. -2. -5. -1.]\n",
      " [-1.  1.  3. -2.  4. -3.  1.]\n",
      " [ 1.  1. -1.  0.  0. -1. -1.]\n",
      " [ 1.  1. -1. -2. -2. -1. -1.]\n",
      " [-1.  3.  1. -2.  0.  1. -1.]\n",
      " [-1.  3.  1. -2.  0.  1. -1.]\n",
      " [ 1.  5.  5.  0.  0.  1.  3.]\n",
      " [ 3.  3.  3. -2. -2. -1.  1.]\n",
      " [ 3.  5.  3. -2.  0. -1.  1.]]\n"
     ]
    }
   ],
   "source": [
    "print(b)\n",
    "print(w)"
   ]
  },
  {
   "cell_type": "markdown",
   "metadata": {},
   "source": [
    "El algoritmo ha sido entrenado y puede clasificar nuevos datos de entrada."
   ]
  },
  {
   "cell_type": "code",
   "execution_count": 14,
   "metadata": {
    "collapsed": false
   },
   "outputs": [
    {
     "name": "stdout",
     "output_type": "stream",
     "text": [
      "Puede ser J\n"
     ]
    }
   ],
   "source": [
    "character_image = Image.open(\"test/j_1.png\").convert(\"L\")\n",
    "#character_image.show()\n",
    "character_array = imageToArray(character_image)\n",
    "character_result = classify(character_array.flatten())\n",
    "#print(character_array)\n",
    "#print(character_result)\n",
    "interpretResult(character_result)"
   ]
  },
  {
   "cell_type": "code",
   "execution_count": null,
   "metadata": {
    "collapsed": true
   },
   "outputs": [],
   "source": []
  }
 ],
 "metadata": {
  "kernelspec": {
   "display_name": "Python 2",
   "language": "python",
   "name": "python2"
  },
  "language_info": {
   "codemirror_mode": {
    "name": "ipython",
    "version": 2
   },
   "file_extension": ".py",
   "mimetype": "text/x-python",
   "name": "python",
   "nbconvert_exporter": "python",
   "pygments_lexer": "ipython2",
   "version": "2.7.10"
  }
 },
 "nbformat": 4,
 "nbformat_minor": 0
}
